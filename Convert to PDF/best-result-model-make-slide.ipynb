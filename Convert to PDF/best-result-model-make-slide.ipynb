{
 "cells": [
  {
   "cell_type": "markdown",
   "metadata": {
    "_cell_guid": "b1076dfc-b9ad-4769-8c92-a6c4dae69d19",
    "_uuid": "8f2839f25d086af736a60e9eeb907d3b93b6e0e5",
    "collapsed": true,
    "slideshow": {
     "slide_type": "slide"
    }
   },
   "source": [
    "# Method - 2\n",
    "\n",
    "Simple Linear Regression model performed better in the private LB better than the other models. This notebook the feature engineering and model training"
   ]
  },
  {
   "cell_type": "code",
   "execution_count": null,
   "metadata": {
    "slideshow": {
     "slide_type": "slide"
    }
   },
   "outputs": [],
   "source": [
    "# importing needed libraries\n",
    "\n",
    "import os\n",
    "\n",
    "import pandas as pd\n",
    "import numpy as np\n",
    "\n",
    "from sklearn.metrics import accuracy_score\n",
    "from sklearn.model_selection import train_test_split\n",
    "from sklearn.linear_model import LinearRegression\n",
    "\n",
    "from sklearn.preprocessing import LabelEncoder"
   ]
  },
  {
   "cell_type": "code",
   "execution_count": null,
   "metadata": {
    "_cell_guid": "79c7e3d0-c299-4dcb-8224-4455121ee9b0",
    "_uuid": "d629ff2d2480ee46fbb7e2d37f6b5fab8052498a",
    "collapsed": true,
    "slideshow": {
     "slide_type": "subslide"
    }
   },
   "outputs": [],
   "source": [
    "# path for the datasets.\n",
    "\n",
    "TRAIN_PATH = 'train.csv'\n",
    "TEST_PATH = 'test.csv'\n",
    "\n",
    "SAMPLE_PATH = 'sample_submission.csv'"
   ]
  },
  {
   "cell_type": "code",
   "execution_count": null,
   "metadata": {
    "_uuid": "73e893330650ad5921cd539ceb8cb484f574aaeb",
    "collapsed": true,
    "slideshow": {
     "slide_type": "subslide"
    }
   },
   "outputs": [],
   "source": [
    "# loading train and test set\n",
    "\n",
    "train = pd.read_csv(TRAIN_PATH)\n",
    "test = pd.read_csv(TEST_PATH)"
   ]
  },
  {
   "cell_type": "code",
   "execution_count": null,
   "metadata": {
    "_uuid": "41bb36dbb709274e088261014dd2f4fddfaf1bf4",
    "collapsed": true,
    "slideshow": {
     "slide_type": "subslide"
    }
   },
   "outputs": [],
   "source": [
    "# let's see whether there are any duplicate columns in the dataset\n",
    "\n",
    "cols = train.columns\n",
    "for idx, col in enumerate(cols):\n",
    "    for c in cols[idx+1:]:\n",
    "        if train[col].equals(train[c]):\n",
    "            print(col, c)"
   ]
  },
  {
   "cell_type": "markdown",
   "metadata": {
    "_uuid": "cf08748dc21267779838f23b122a9cb7ac0c8662",
    "slideshow": {
     "slide_type": "subslide"
    }
   },
   "source": [
    "It can be seen that there is no duplicate column, let's move on"
   ]
  },
  {
   "cell_type": "markdown",
   "metadata": {
    "slideshow": {
     "slide_type": "slide"
    }
   },
   "source": [
    "# Preprocessing and Feature Engineering\n",
    "\n",
    "This section fixes the issues found in the EDA and generate new feature from the insights we got from the EDA"
   ]
  },
  {
   "cell_type": "code",
   "execution_count": null,
   "metadata": {
    "_uuid": "4018ed18dcb1cd665b31928b9970309e3f58c5d0",
    "collapsed": true,
    "slideshow": {
     "slide_type": "subslide"
    }
   },
   "outputs": [],
   "source": [
    "# hotel_stars feature have problem in it as seen in the EDA.\n",
    "# let's fix it by replacing ',' by '.'\n",
    "\n",
    "train.hotel_stars = train.hotel_stars.map(lambda x : x.replace(',', '.'))\n",
    "test.hotel_stars = test.hotel_stars.map(lambda x : x.replace(',', '.'))\n",
    "\n",
    "train.hotel_stars = train.hotel_stars.astype('float32')\n",
    "test.hotel_stars = test.hotel_stars.astype('float32')"
   ]
  },
  {
   "cell_type": "markdown",
   "metadata": {
    "slideshow": {
     "slide_type": "subslide"
    }
   },
   "source": [
    "There was a significant dependency on whether the hotel had swimming_pool and the score it got. The period of stay also have significant relationship.\n",
    "\n",
    "It will be good to create a feature that indicate whether the earthling stayed in 'Mar-May' (assuming it is the hottest time)."
   ]
  },
  {
   "cell_type": "code",
   "execution_count": null,
   "metadata": {
    "_uuid": "c9d342c03247a1a53633a285527f5b3e6408f760",
    "collapsed": true,
    "slideshow": {
     "slide_type": "subslide"
    }
   },
   "outputs": [],
   "source": [
    "# we saw in EDA, there is some relationship with the period of stay and the score\n",
    "# let's make a new feature 'stayed_in_summer' to indicate whether the person stayed in period 'Mar-May'\n",
    "\n",
    "train['stayed_in_summer'] = train.period_of_stay.map(lambda x : 1 if x == 'Mar-May' else 0)\n",
    "test['stayed_in_summer'] = test.period_of_stay.map(lambda x : 1 if x == 'Mar-May' else 0)"
   ]
  },
  {
   "cell_type": "code",
   "execution_count": null,
   "metadata": {
    "_uuid": "4ae05f96c3868d243e22105b95d553bc78406c36",
    "collapsed": true,
    "slideshow": {
     "slide_type": "subslide"
    }
   },
   "outputs": [],
   "source": [
    "# Let's encode the categorical features one by one \n",
    "\n",
    "continent_encoder = LabelEncoder().fit(train['earthling_continent'])\n",
    "train['earthling_continet'] = continent_encoder.transform(train['earthling_continent'])\n",
    "test['earthling_continet'] = continent_encoder.transform(test['earthling_continent'])"
   ]
  },
  {
   "cell_type": "code",
   "execution_count": null,
   "metadata": {
    "_uuid": "e8aa6511e241c4c855dfad66f6dc8dbb76e8e775",
    "collapsed": true,
    "slideshow": {
     "slide_type": "subslide"
    }
   },
   "outputs": [],
   "source": [
    "# We saw that the feature 'earthling_country' can't be used in our model as it have different value in train and test\n",
    "# Let's drop that feature\n",
    "\n",
    "del train['earthling_country']\n",
    "del test['earthling_country']"
   ]
  },
  {
   "cell_type": "code",
   "execution_count": null,
   "metadata": {
    "_uuid": "fc1f14a3d2eb324f97fb14190e731b4a04bec2ef",
    "collapsed": true,
    "slideshow": {
     "slide_type": "subslide"
    }
   },
   "outputs": [],
   "source": [
    "# Let's run a loop to encode rest of the categorical columns\n",
    "\n",
    "for col in train.columns:\n",
    "    if train[col].dtype == object:\n",
    "        enc = LabelEncoder().fit(train[col])\n",
    "        \n",
    "        train[col] = enc.transform(train[col])\n",
    "        test[col] = enc.transform(test[col])"
   ]
  },
  {
   "cell_type": "code",
   "execution_count": null,
   "metadata": {
    "_uuid": "816e8a0a8fa8783c918c866dfb9b74dc349ca737",
    "collapsed": true,
    "slideshow": {
     "slide_type": "subslide"
    }
   },
   "outputs": [],
   "source": [
    "# We saw, 'free_wifi' had a significant impact on the score from the EDA\n",
    "# Let's target encode that feature\n",
    "\n",
    "score_map = train.groupby(by=['free_wifi'])['score'].mean().to_dict()\n",
    "train['wifi_score_encoded'] = train['free_wifi'].map(score_map)\n",
    "test['wifi_score_encoded'] = test['free_wifi'].map(score_map)"
   ]
  },
  {
   "cell_type": "code",
   "execution_count": null,
   "metadata": {
    "_uuid": "b63fa76c61cb86200b40e74d2a962714bc6cb4f3",
    "collapsed": true,
    "slideshow": {
     "slide_type": "subslide"
    }
   },
   "outputs": [],
   "source": [
    "# Let's also target encode the new feature 'stayed_in_summer'\n",
    "\n",
    "score_map = train.groupby(by=['stayed_in_summer'])['score'].mean().to_dict()\n",
    "train['stayed_in_summer_score_encoded'] = train['stayed_in_summer'].map(score_map)\n",
    "test['stayed_in_summer_score_encoded'] = test['stayed_in_summer'].map(score_map)"
   ]
  },
  {
   "cell_type": "code",
   "execution_count": null,
   "metadata": {
    "_uuid": "003dfd50e8c4e5642c0e7933a50320b87616c668",
    "collapsed": true,
    "slideshow": {
     "slide_type": "subslide"
    }
   },
   "outputs": [],
   "source": [
    "# feature 'number_of_rooms' was not that prominent feature from our EDA\n",
    "# Let's drop that feature \n",
    "\n",
    "del train['number_of_rooms']\n",
    "del test['number_of_rooms']"
   ]
  },
  {
   "cell_type": "markdown",
   "metadata": {
    "slideshow": {
     "slide_type": "slide"
    }
   },
   "source": [
    "# Model Training\n",
    "\n",
    "With the features pre-processed and a few features generated, we can now move on with the model training and testing.\n",
    "\n",
    "Since the score ranges from 1 to 5 and the distribution of smaller scores are very less in the train set, the problem is very imabalanced. This makes it difficult for the Classifier to learn. \n",
    "\n",
    "Alternate way to model is to try to fit a regressor on the data and predict. Later the prediction can be mapped to class labels based on some threshold."
   ]
  },
  {
   "cell_type": "code",
   "execution_count": null,
   "metadata": {
    "_uuid": "79f18b3c87798364521fa7d7201b2ef04897ca73",
    "collapsed": true,
    "slideshow": {
     "slide_type": "subslide"
    }
   },
   "outputs": [],
   "source": [
    "# Let's split the data in to train and validation\n",
    "\n",
    "train_feats, valid_feats, train_labels, valid_labels = train_test_split(train.drop(['score'], axis=1), train['score'],\n",
    "                                                                       test_size=0.25, random_state=2019, stratify=train['score'])"
   ]
  },
  {
   "cell_type": "code",
   "execution_count": null,
   "metadata": {
    "_uuid": "aab7a3199b3da84039fc2592a3c49a0a56665b4a",
    "slideshow": {
     "slide_type": "subslide"
    }
   },
   "outputs": [],
   "source": [
    "# We are trying to fit a Regressor on the data\n",
    "# The output of the regressor can be further mapped in to different classes accoringly with the \n",
    "# function map_prediction\n",
    "\n",
    "def map_prediction(score):\n",
    "    if score < 1.10:\n",
    "        return 1\n",
    "    elif score < 2.10:\n",
    "        return 2\n",
    "    elif score < 3.10:\n",
    "        return 3\n",
    "    elif score < 4.10:\n",
    "        return 4\n",
    "    else:\n",
    "        return 5\n",
    "    \n",
    "lr = LinearRegression(normalize=False)\n",
    "lr.fit(train_feats, train_labels)\n",
    "\n",
    "valid_preds = lr.predict(valid_feats)\n",
    "valid_preds = list(map(map_prediction, valid_preds))\n",
    "\n",
    "accuracy_score(valid_labels, valid_preds)"
   ]
  },
  {
   "cell_type": "markdown",
   "metadata": {
    "_uuid": "363066958e1b56f06d5feb4e04a8b374741386d5"
   },
   "source": [
    "Result seems not that great actually.\n",
    "\n",
    "But for this data this is one of the best results to get. \n",
    "\n",
    "Let's now fit the model on full data and make prediction on test set."
   ]
  },
  {
   "cell_type": "code",
   "execution_count": null,
   "metadata": {
    "_uuid": "02521d5ce69a224ca6adecf3ef7d4281d4602798",
    "collapsed": true
   },
   "outputs": [],
   "source": [
    "test = test[train.drop(['score'], axis=1).columns]"
   ]
  },
  {
   "cell_type": "code",
   "execution_count": null,
   "metadata": {
    "_uuid": "2239ab67eaea46288eb52fb769131dc801576149",
    "collapsed": true
   },
   "outputs": [],
   "source": [
    "# fixing mars_membership_years feature of test set\n",
    "# Let's replace it with 0\n",
    "\n",
    "test['mars_membership_years'] = test['mars_membership_years'].map(lambda y: 0 if y < 0 else y)"
   ]
  },
  {
   "cell_type": "code",
   "execution_count": null,
   "metadata": {
    "_uuid": "bf10bebf8b03e08dfc4b23c4b3ce848a817015d4",
    "collapsed": true
   },
   "outputs": [],
   "source": [
    "# predicting on test set\n",
    "\n",
    "test_preds = lr.predict(test)\n",
    "test_preds = list(map(map_prediction, test_preds))"
   ]
  },
  {
   "cell_type": "code",
   "execution_count": null,
   "metadata": {
    "_uuid": "aacaff0b29bea4da40383b6597687b60565ffaea",
    "collapsed": true
   },
   "outputs": [],
   "source": [
    "# making submission dataframe\n",
    "\n",
    "sub = pd.read_csv(SAMPLE_PATH)\n",
    "sub['score'] = test_preds"
   ]
  },
  {
   "cell_type": "code",
   "execution_count": null,
   "metadata": {
    "_uuid": "60cc0cf92258a1f76d70f301f49b95846dec2d5a",
    "collapsed": true
   },
   "outputs": [],
   "source": [
    "# saving as csv\n",
    "\n",
    "sub.to_csv('lr_model.csv', index=False)"
   ]
  },
  {
   "cell_type": "markdown",
   "metadata": {
    "_uuid": "da02e0aa5ea52908a16cff38a3da25d3906a4e3c"
   },
   "source": []
  },
  {
   "cell_type": "code",
   "execution_count": null,
   "metadata": {
    "_uuid": "8bc6a581d00289b5901f8b69b2202332ba1383ba",
    "collapsed": true
   },
   "outputs": [],
   "source": []
  }
 ],
 "metadata": {
  "celltoolbar": "Slideshow",
  "kernelspec": {
   "display_name": "Python 3",
   "language": "python",
   "name": "python3"
  },
  "language_info": {
   "codemirror_mode": {
    "name": "ipython",
    "version": 3
   },
   "file_extension": ".py",
   "mimetype": "text/x-python",
   "name": "python",
   "nbconvert_exporter": "python",
   "pygments_lexer": "ipython3",
   "version": "3.6.5"
  }
 },
 "nbformat": 4,
 "nbformat_minor": 1
}
